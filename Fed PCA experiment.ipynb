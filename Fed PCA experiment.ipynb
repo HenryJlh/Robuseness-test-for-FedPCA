{
 "cells": [
  {
   "cell_type": "code",
   "execution_count": 3,
   "id": "3cb89da9",
   "metadata": {
    "scrolled": true
   },
   "outputs": [
    {
     "name": "stdout",
     "output_type": "stream",
     "text": [
      "(5000, 28, 28)\n",
      "5000\n"
     ]
    }
   ],
   "source": [
    "#数据集读取，数据储存于data，标签储存于labels\n",
    "\n",
    "import numpy as np\n",
    "import gzip\n",
    "import matplotlib.pyplot as plt\n",
    "from scipy.spatial.distance import pdist\n",
    "%matplotlib inline\n",
    "from imageio import imread,imsave\n",
    "\n",
    "# 训练集文件\n",
    "train_images_idx3_ubyte_file = 'C:/Users/HUAWEI/Desktop/minst数据集/train-images-idx3-ubyte.gz'\n",
    "# 训练集标签文件\n",
    "train_labels_idx1_ubyte_file = 'C:/Users/HUAWEI/Desktop/minst数据集/train-labels-idx1-ubyte.gz'\n",
    "# 测试集文件\n",
    "test_images_idx3_ubyte_file = 'C:/Users/HUAWEI/Desktop/minst数据集/t10k-images-idx3-ubyte.gz'\n",
    "# 测试集标签文件\n",
    "test_labels_idx1_ubyte_file = 'C:/Users/HUAWEI/Desktop/minst数据集/t10k-labels-idx1-ubyte.gz'\n",
    "\n",
    "#提取训练集数据矩阵\n",
    "f = gzip.open(train_images_idx3_ubyte_file,'r')\n",
    "image_size = 28 #不能改，不要改！\n",
    "num_images = 5000 #调整读取数量，可以改\n",
    "f.read(16) #不能改，不要改！\n",
    "buf = f.read(image_size * image_size * num_images)\n",
    "data = np.frombuffer(buf, dtype=np.uint8).astype(np.float32)\n",
    "data = data.reshape(num_images, image_size, image_size)\n",
    "\n",
    "#提取训练集数据标签\n",
    "f = gzip.open(train_labels_idx1_ubyte_file,'r')\n",
    "f.read(8) #不能改，不要改！\n",
    "labels = []\n",
    "for i in range(0,5000):   \n",
    "    buf = f.read(1)\n",
    "    labels.append(np.frombuffer(buf, dtype=np.uint8).astype(np.int64))\n",
    "\n",
    "print(data.shape)\n",
    "print(len(labels))"
   ]
  },
  {
   "cell_type": "code",
   "execution_count": 30,
   "id": "ce4d8d8b",
   "metadata": {},
   "outputs": [
    {
     "name": "stdout",
     "output_type": "stream",
     "text": [
      "[[[0. 0. 0. ... 0. 0. 0.]\n",
      "  [0. 0. 0. ... 0. 0. 0.]\n",
      "  [0. 0. 0. ... 0. 0. 0.]\n",
      "  ...\n",
      "  [0. 0. 0. ... 0. 0. 0.]\n",
      "  [0. 0. 0. ... 0. 0. 0.]\n",
      "  [0. 0. 0. ... 0. 0. 0.]]\n",
      "\n",
      " [[0. 0. 0. ... 0. 0. 0.]\n",
      "  [0. 0. 0. ... 0. 0. 0.]\n",
      "  [0. 0. 0. ... 0. 0. 0.]\n",
      "  ...\n",
      "  [0. 0. 0. ... 0. 0. 0.]\n",
      "  [0. 0. 0. ... 0. 0. 0.]\n",
      "  [0. 0. 0. ... 0. 0. 0.]]\n",
      "\n",
      " [[0. 0. 0. ... 0. 0. 0.]\n",
      "  [0. 0. 0. ... 0. 0. 0.]\n",
      "  [0. 0. 0. ... 0. 0. 0.]\n",
      "  ...\n",
      "  [0. 0. 0. ... 0. 0. 0.]\n",
      "  [0. 0. 0. ... 0. 0. 0.]\n",
      "  [0. 0. 0. ... 0. 0. 0.]]\n",
      "\n",
      " ...\n",
      "\n",
      " [[0. 0. 0. ... 0. 0. 0.]\n",
      "  [0. 0. 0. ... 0. 0. 0.]\n",
      "  [0. 0. 0. ... 0. 0. 0.]\n",
      "  ...\n",
      "  [0. 0. 0. ... 0. 0. 0.]\n",
      "  [0. 0. 0. ... 0. 0. 0.]\n",
      "  [0. 0. 0. ... 0. 0. 0.]]\n",
      "\n",
      " [[0. 0. 0. ... 0. 0. 0.]\n",
      "  [0. 0. 0. ... 0. 0. 0.]\n",
      "  [0. 0. 0. ... 0. 0. 0.]\n",
      "  ...\n",
      "  [0. 0. 0. ... 0. 0. 0.]\n",
      "  [0. 0. 0. ... 0. 0. 0.]\n",
      "  [0. 0. 0. ... 0. 0. 0.]]\n",
      "\n",
      " [[0. 0. 0. ... 0. 0. 0.]\n",
      "  [0. 0. 0. ... 0. 0. 0.]\n",
      "  [0. 0. 0. ... 0. 0. 0.]\n",
      "  ...\n",
      "  [0. 0. 0. ... 0. 0. 0.]\n",
      "  [0. 0. 0. ... 0. 0. 0.]\n",
      "  [0. 0. 0. ... 0. 0. 0.]]]\n"
     ]
    }
   ],
   "source": [
    "num_data = 20\n",
    "num_client = 20\n",
    "index = 0\n",
    "for i in range(num_client):\n",
    "    #print(data[index:index+num_data])\n",
    "    exec(\"client_data_%i = data[index:index+num_data]\"%i)\n",
    "    exec(\"client_label_%i = labels[index:index+num_data]\"%i)\n",
    "    index += num_data\n",
    "    \n",
    "print(client_data_1)"
   ]
  },
  {
   "cell_type": "code",
   "execution_count": 31,
   "id": "f2e0519f",
   "metadata": {},
   "outputs": [],
   "source": [
    "def as_row_matrix (X):\n",
    "    if len (X) == 0:\n",
    "        return np. array ([])\n",
    "    mat = np. empty ((0 , X [0].size ), dtype =X [0]. dtype )\n",
    "    for row in X:\n",
    "        mat = np.vstack(( mat , np.asarray( row ).reshape(1 , -1))) # 1 x r*c \n",
    "    return mat"
   ]
  },
  {
   "cell_type": "code",
   "execution_count": 192,
   "id": "91aeb9ed",
   "metadata": {},
   "outputs": [],
   "source": [
    "def get_number_of_components_to_preserve_variance(eigenvalues, variance=.70):\n",
    "    for ii, eigen_value_cumsum in enumerate(np.cumsum(eigenvalues) / np.sum(eigenvalues)):\n",
    "        if eigen_value_cumsum > variance:\n",
    "            return ii"
   ]
  },
  {
   "cell_type": "code",
   "execution_count": 198,
   "id": "3ecba188",
   "metadata": {},
   "outputs": [],
   "source": [
    "def client_P (X,branch=0 , num_components =0):\n",
    "    [n,d] = X.shape\n",
    "    if ( num_components <= 0) or ( num_components >n):\n",
    "        num_components = n\n",
    "        mu = X.mean( axis =0)\n",
    "        X = X - mu\n",
    "    #if n>d:\n",
    "        C = np.dot(X.T,X) # Covariance Matrix\n",
    "    #else :\n",
    "        #C = np.dot (X,X.T) # Covariance Matrix\n",
    "        #branch = 1\n",
    "    return C,branch"
   ]
  },
  {
   "cell_type": "code",
   "execution_count": 190,
   "id": "44060eb3",
   "metadata": {},
   "outputs": [],
   "source": [
    "def client_AP(X):\n",
    "    [n,d] = X.shape\n",
    "    if n>d:\n",
    "        C = np.dot(X.T,X) # Covariance Matrix\n",
    "    else :\n",
    "        C = np.dot (X,X.T) # Covariance Matrix\n",
    "        [ eigenvalues , eigenvectors ] = np.linalg.eigh(C)\n",
    "        eigenvectors = np.dot(X.T, eigenvectors )\n",
    "    for i in range (n):\n",
    "        eigenvectors [:,i] = eigenvectors [:,i]/ np.linalg.norm( eigenvectors [:,i])\n",
    "    eigenvalues = np.diag(eigenvalues)   \n",
    "    return eigenvectors, eigenvalues"
   ]
  },
  {
   "cell_type": "code",
   "execution_count": 122,
   "id": "e5ada663",
   "metadata": {},
   "outputs": [],
   "source": [
    "def P_COV(X,branch=0,num_components=0):\n",
    "    matrix=0\n",
    "    for i in X:\n",
    "        matrix+=i\n",
    "    [ eigenvalues , eigenvectors ] = np.linalg.eigh(matrix)\n",
    "    #print(eigenvectors.shape)\n",
    "    #if branch == 1:\n",
    "        #eigenvectors = np.dot(X.T,eigenvectors)\n",
    "    [n,d] = X[0].shape\n",
    "    for i in range (n):\n",
    "        eigenvectors [:,i] = eigenvectors [:,i]/ np.linalg.norm( eigenvectors [:,i])\n",
    "    idx = np.argsort (- eigenvalues )\n",
    "    eigenvalues = eigenvalues [idx ]\n",
    "    eigenvectors = eigenvectors [:, idx ]\n",
    "    num_components = get_number_of_components_to_preserve_variance(eigenvalues)\n",
    "    eigenvalues = eigenvalues [0: num_components ].copy ()\n",
    "    eigenvectors = eigenvectors [: ,0: num_components ].copy ()\n",
    "    return [ eigenvalues , eigenvectors ]"
   ]
  },
  {
   "cell_type": "code",
   "execution_count": 195,
   "id": "8183a987",
   "metadata": {},
   "outputs": [],
   "source": [
    "def AP_Stack(X):\n",
    "    stack = np. empty ( X[0].size , dtype =X[0]. dtype )\n",
    "    for i in X:\n",
    "        stack = np.vstack((stack,i))\n",
    "    [ eigenvalues , eigenvectors ] = np.linalg.eigh(stack)\n",
    "    for i in range (n):\n",
    "        eigenvectors [:,i] = eigenvectors [:,i]/ np.linalg.norm( eigenvectors [:,i])\n",
    "    idx = np.argsort (- eigenvalues )\n",
    "    eigenvalues = eigenvalues [idx]\n",
    "    eigenvectors = eigenvectors [:, idx ]\n",
    "    num_components = get_number_of_components_to_preserve_variance(eigenvalues)\n",
    "    eigenvalues = eigenvalues [0: num_components ].copy ()\n",
    "    eigenvectors = eigenvectors [: ,0: num_components ].copy ()\n",
    "    return [ eigenvalues , eigenvectors ]"
   ]
  },
  {
   "cell_type": "code",
   "execution_count": 187,
   "id": "068e4942",
   "metadata": {},
   "outputs": [],
   "source": [
    "def AP_COV (client_lst):\n",
    "    M = 0\n",
    "    for i in range(num_client):\n",
    "        M += np.dot(client_lst[i][0],np.dot(client_lst[i][1],client_lst[i][0].T))\n",
    "    [ eigenvalues , eigenvectors ] = np.linalg.eigh(M)\n",
    "    \n",
    "    [n,d] = M.shape\n",
    "    for i in range (n):\n",
    "        eigenvectors [:,i] = eigenvectors [:,i]/ np.linalg.norm( eigenvectors [:,i])\n",
    "    idx = np.argsort (- eigenvalues )\n",
    "    eigenvalues = eigenvalues [idx ]\n",
    "    eigenvectors = eigenvectors [:, idx ]\n",
    "    num_components = get_number_of_components_to_preserve_variance(eigenvalues)\n",
    "    print(num_components)\n",
    "    eigenvalues = eigenvalues [0: num_components ].copy ()\n",
    "    eigenvectors = eigenvectors [: ,0: num_components ].copy ()\n",
    "    print(eigenvalues)\n",
    "    print(eigenvectors)\n",
    "    \n",
    "    return [eigenvalues,eigenvectors]"
   ]
  },
  {
   "cell_type": "code",
   "execution_count": 199,
   "id": "29633495",
   "metadata": {
    "scrolled": true
   },
   "outputs": [
    {
     "name": "stdout",
     "output_type": "stream",
     "text": [
      "[1.33330984e+08 1.02580304e+08 8.38019200e+07 7.88522320e+07\n",
      " 6.63114880e+07 6.28882680e+07 4.28036400e+07 3.90679040e+07\n",
      " 3.56034280e+07 3.01858480e+07 2.79200720e+07 2.44467540e+07\n",
      " 2.23803920e+07 2.08221860e+07 1.97996700e+07 1.94322760e+07\n",
      " 1.78099920e+07 1.64027400e+07 1.46783910e+07 1.42240200e+07]\n",
      "(784, 20)\n",
      "[[0. 0. 0. ... 0. 0. 0.]\n",
      " [0. 0. 0. ... 0. 0. 0.]\n",
      " [0. 0. 0. ... 0. 0. 0.]\n",
      " ...\n",
      " [0. 0. 0. ... 0. 0. 0.]\n",
      " [0. 0. 0. ... 0. 0. 0.]\n",
      " [0. 0. 0. ... 0. 0. 0.]]\n"
     ]
    }
   ],
   "source": [
    "# P-COV\n",
    "client_cov = []\n",
    "branch = 0\n",
    "for i in range(num_client):\n",
    "    exec(\"row_matrix = as_row_matrix(client_data_%i)\"%i)\n",
    "    [cov,branch] = client_P(row_matrix)\n",
    "    client_cov.append(cov)\n",
    "    #print(branch)\n",
    "    #print(row_matrix.shape)\n",
    "[fed_eigenvalues,fed_eigenvectors] = P_COV(client_cov,branch)\n",
    "print(fed_eigenvalues)\n",
    "print(fed_eigenvectors.shape)\n",
    "print(fed_eigenvectors)"
   ]
  },
  {
   "cell_type": "code",
   "execution_count": 196,
   "id": "daf25e56",
   "metadata": {},
   "outputs": [
    {
     "ename": "ValueError",
     "evalue": "all the input array dimensions for the concatenation axis must match exactly, but along dimension 1, the array at index 0 has size 15680 and the array at index 1 has size 784",
     "output_type": "error",
     "traceback": [
      "\u001b[1;31m---------------------------------------------------------------------------\u001b[0m",
      "\u001b[1;31mValueError\u001b[0m                                Traceback (most recent call last)",
      "\u001b[1;32m<ipython-input-196-2bee9cafc537>\u001b[0m in \u001b[0;36m<module>\u001b[1;34m\u001b[0m\n\u001b[0;32m      8\u001b[0m     \u001b[1;31m#print(branch)\u001b[0m\u001b[1;33m\u001b[0m\u001b[1;33m\u001b[0m\u001b[1;33m\u001b[0m\u001b[0m\n\u001b[0;32m      9\u001b[0m     \u001b[1;31m#print(row_matrix.shape)\u001b[0m\u001b[1;33m\u001b[0m\u001b[1;33m\u001b[0m\u001b[1;33m\u001b[0m\u001b[0m\n\u001b[1;32m---> 10\u001b[1;33m \u001b[1;33m[\u001b[0m\u001b[0mfed_eigenvalues\u001b[0m\u001b[1;33m,\u001b[0m\u001b[0mfed_eigenvectors\u001b[0m\u001b[1;33m]\u001b[0m \u001b[1;33m=\u001b[0m \u001b[0mAP_Stack\u001b[0m\u001b[1;33m(\u001b[0m\u001b[0mclient_subspace\u001b[0m\u001b[1;33m)\u001b[0m\u001b[1;33m\u001b[0m\u001b[1;33m\u001b[0m\u001b[0m\n\u001b[0m\u001b[0;32m     11\u001b[0m \u001b[0mprint\u001b[0m\u001b[1;33m(\u001b[0m\u001b[0mfed_eigenvectors\u001b[0m\u001b[1;33m.\u001b[0m\u001b[0mshape\u001b[0m\u001b[1;33m)\u001b[0m\u001b[1;33m\u001b[0m\u001b[1;33m\u001b[0m\u001b[0m\n\u001b[0;32m     12\u001b[0m \u001b[0mprint\u001b[0m\u001b[1;33m(\u001b[0m\u001b[0mfed_eigenvectors\u001b[0m\u001b[1;33m)\u001b[0m\u001b[1;33m\u001b[0m\u001b[1;33m\u001b[0m\u001b[0m\n",
      "\u001b[1;32m<ipython-input-195-31fcfeb1d879>\u001b[0m in \u001b[0;36mAP_Stack\u001b[1;34m(X)\u001b[0m\n\u001b[0;32m      2\u001b[0m     \u001b[0mstack\u001b[0m \u001b[1;33m=\u001b[0m \u001b[0mnp\u001b[0m\u001b[1;33m.\u001b[0m \u001b[0mempty\u001b[0m \u001b[1;33m(\u001b[0m \u001b[0mX\u001b[0m\u001b[1;33m[\u001b[0m\u001b[1;36m0\u001b[0m\u001b[1;33m]\u001b[0m\u001b[1;33m.\u001b[0m\u001b[0msize\u001b[0m \u001b[1;33m,\u001b[0m \u001b[0mdtype\u001b[0m \u001b[1;33m=\u001b[0m\u001b[0mX\u001b[0m\u001b[1;33m[\u001b[0m\u001b[1;36m0\u001b[0m\u001b[1;33m]\u001b[0m\u001b[1;33m.\u001b[0m \u001b[0mdtype\u001b[0m \u001b[1;33m)\u001b[0m\u001b[1;33m\u001b[0m\u001b[1;33m\u001b[0m\u001b[0m\n\u001b[0;32m      3\u001b[0m     \u001b[1;32mfor\u001b[0m \u001b[0mi\u001b[0m \u001b[1;32min\u001b[0m \u001b[0mX\u001b[0m\u001b[1;33m:\u001b[0m\u001b[1;33m\u001b[0m\u001b[1;33m\u001b[0m\u001b[0m\n\u001b[1;32m----> 4\u001b[1;33m         \u001b[0mstack\u001b[0m \u001b[1;33m=\u001b[0m \u001b[0mnp\u001b[0m\u001b[1;33m.\u001b[0m\u001b[0mvstack\u001b[0m\u001b[1;33m(\u001b[0m\u001b[1;33m(\u001b[0m\u001b[0mstack\u001b[0m\u001b[1;33m,\u001b[0m\u001b[0mi\u001b[0m\u001b[1;33m)\u001b[0m\u001b[1;33m)\u001b[0m\u001b[1;33m\u001b[0m\u001b[1;33m\u001b[0m\u001b[0m\n\u001b[0m\u001b[0;32m      5\u001b[0m     \u001b[1;33m[\u001b[0m \u001b[0meigenvalues\u001b[0m \u001b[1;33m,\u001b[0m \u001b[0meigenvectors\u001b[0m \u001b[1;33m]\u001b[0m \u001b[1;33m=\u001b[0m \u001b[0mnp\u001b[0m\u001b[1;33m.\u001b[0m\u001b[0mlinalg\u001b[0m\u001b[1;33m.\u001b[0m\u001b[0meigh\u001b[0m\u001b[1;33m(\u001b[0m\u001b[0mstack\u001b[0m\u001b[1;33m)\u001b[0m\u001b[1;33m\u001b[0m\u001b[1;33m\u001b[0m\u001b[0m\n\u001b[0;32m      6\u001b[0m     \u001b[1;32mfor\u001b[0m \u001b[0mi\u001b[0m \u001b[1;32min\u001b[0m \u001b[0mrange\u001b[0m \u001b[1;33m(\u001b[0m\u001b[0mn\u001b[0m\u001b[1;33m)\u001b[0m\u001b[1;33m:\u001b[0m\u001b[1;33m\u001b[0m\u001b[1;33m\u001b[0m\u001b[0m\n",
      "\u001b[1;32m<__array_function__ internals>\u001b[0m in \u001b[0;36mvstack\u001b[1;34m(*args, **kwargs)\u001b[0m\n",
      "\u001b[1;32mE:\\anaconda\\lib\\site-packages\\numpy\\core\\shape_base.py\u001b[0m in \u001b[0;36mvstack\u001b[1;34m(tup)\u001b[0m\n\u001b[0;32m    281\u001b[0m     \u001b[1;32mif\u001b[0m \u001b[1;32mnot\u001b[0m \u001b[0misinstance\u001b[0m\u001b[1;33m(\u001b[0m\u001b[0marrs\u001b[0m\u001b[1;33m,\u001b[0m \u001b[0mlist\u001b[0m\u001b[1;33m)\u001b[0m\u001b[1;33m:\u001b[0m\u001b[1;33m\u001b[0m\u001b[1;33m\u001b[0m\u001b[0m\n\u001b[0;32m    282\u001b[0m         \u001b[0marrs\u001b[0m \u001b[1;33m=\u001b[0m \u001b[1;33m[\u001b[0m\u001b[0marrs\u001b[0m\u001b[1;33m]\u001b[0m\u001b[1;33m\u001b[0m\u001b[1;33m\u001b[0m\u001b[0m\n\u001b[1;32m--> 283\u001b[1;33m     \u001b[1;32mreturn\u001b[0m \u001b[0m_nx\u001b[0m\u001b[1;33m.\u001b[0m\u001b[0mconcatenate\u001b[0m\u001b[1;33m(\u001b[0m\u001b[0marrs\u001b[0m\u001b[1;33m,\u001b[0m \u001b[1;36m0\u001b[0m\u001b[1;33m)\u001b[0m\u001b[1;33m\u001b[0m\u001b[1;33m\u001b[0m\u001b[0m\n\u001b[0m\u001b[0;32m    284\u001b[0m \u001b[1;33m\u001b[0m\u001b[0m\n\u001b[0;32m    285\u001b[0m \u001b[1;33m\u001b[0m\u001b[0m\n",
      "\u001b[1;32m<__array_function__ internals>\u001b[0m in \u001b[0;36mconcatenate\u001b[1;34m(*args, **kwargs)\u001b[0m\n",
      "\u001b[1;31mValueError\u001b[0m: all the input array dimensions for the concatenation axis must match exactly, but along dimension 1, the array at index 0 has size 15680 and the array at index 1 has size 784"
     ]
    }
   ],
   "source": [
    "#AP-Stack\n",
    "client_subspace = []\n",
    "branch = 0\n",
    "for i in range(num_client):\n",
    "    exec(\"row_matrix = as_row_matrix(client_data_%i)\"%i)\n",
    "    [vec,sig] = client_AP(row_matrix)\n",
    "    client_subspace.append(np.dot(sig,vec.T))\n",
    "    #print(branch)\n",
    "    #print(row_matrix.shape)\n",
    "[fed_eigenvalues,fed_eigenvectors] = AP_Stack(client_subspace)\n",
    "print(fed_eigenvectors.shape)\n",
    "print(fed_eigenvectors)"
   ]
  },
  {
   "cell_type": "code",
   "execution_count": 193,
   "id": "4e95b3fb",
   "metadata": {},
   "outputs": [
    {
     "name": "stdout",
     "output_type": "stream",
     "text": [
      "8\n",
      "[9.5070086e+08 1.1993904e+08 1.0776582e+08 8.8064288e+07 7.3485024e+07\n",
      " 6.7090100e+07 5.6849232e+07 4.4001344e+07]\n",
      "[[0. 0. 0. ... 0. 0. 0.]\n",
      " [0. 0. 0. ... 0. 0. 0.]\n",
      " [0. 0. 0. ... 0. 0. 0.]\n",
      " ...\n",
      " [0. 0. 0. ... 0. 0. 0.]\n",
      " [0. 0. 0. ... 0. 0. 0.]\n",
      " [0. 0. 0. ... 0. 0. 0.]]\n"
     ]
    }
   ],
   "source": [
    "# AP-COV\n",
    "client_lst = []\n",
    "for i in range(num_client):\n",
    "    exec(\"row_matrix = as_row_matrix(client_data_%i)\"%i)\n",
    "    [vec,sig] = client_AP(row_matrix)\n",
    "    client_lst.append([vec,sig])\n",
    "\n",
    "[fed_eigenvalues,fed_eigenvectors] = AP_COV(client_lst)"
   ]
  },
  {
   "cell_type": "code",
   "execution_count": 101,
   "id": "9b69dfad",
   "metadata": {},
   "outputs": [
    {
     "name": "stdout",
     "output_type": "stream",
     "text": [
      "20\n",
      "(784, 20)\n",
      "[[0. 0. 0. ... 0. 0. 0.]\n",
      " [0. 0. 0. ... 0. 0. 0.]\n",
      " [0. 0. 0. ... 0. 0. 0.]\n",
      " ...\n",
      " [0. 0. 0. ... 0. 0. 0.]\n",
      " [0. 0. 0. ... 0. 0. 0.]\n",
      " [0. 0. 0. ... 0. 0. 0.]]\n"
     ]
    }
   ],
   "source": [
    "def pca (X, num_components =0): \n",
    "    [n,d] = X.shape\n",
    "    if ( num_components <= 0) or ( num_components >n):\n",
    "        num_components = n\n",
    "        mu = X.mean( axis =0)\n",
    "        X = X - mu\n",
    "    if n>d:\n",
    "        C = np.dot(X.T,X)\n",
    "        [ eigenvalues , eigenvectors ] = np.linalg.eigh(C)\n",
    "    else :\n",
    "        C = np.dot (X,X.T) \n",
    "        [ eigenvalues , eigenvectors ] = np.linalg.eigh(C)\n",
    "        eigenvectors = np.dot(X.T, eigenvectors )\n",
    "    for i in range (n):\n",
    "        eigenvectors [:,i] = eigenvectors [:,i]/ np.linalg.norm( eigenvectors [:,i])\n",
    "    idx = np.argsort (- eigenvalues )\n",
    "    eigenvalues = eigenvalues [idx ]\n",
    "    eigenvectors = eigenvectors [:, idx ]\n",
    "    num_components = get_number_of_components_to_preserve_variance(eigenvalues)\n",
    "    print(num_components)\n",
    "    eigenvalues = eigenvalues [0: num_components ].copy ()\n",
    "    eigenvectors = eigenvectors [: ,0: num_components ].copy ()\n",
    "    print(eigenvectors.shape)\n",
    "    return [ eigenvalues , eigenvectors , mu]\n",
    "total_data = data[:num_data*num_client]\n",
    "big_data = as_row_matrix(total_data)\n",
    "[pca_eigenvalues, pca_eigenvectors, pca_mu] = pca (big_data)  ; #原始PCA，需要总数据大矩阵\n",
    "print(pca_eigenvectors)"
   ]
  },
  {
   "cell_type": "code",
   "execution_count": 149,
   "id": "dbf7b59b",
   "metadata": {},
   "outputs": [
    {
     "ename": "ValueError",
     "evalue": "shapes (784,) and (20,) not aligned: 784 (dim 0) != 20 (dim 0)",
     "output_type": "error",
     "traceback": [
      "\u001b[1;31m---------------------------------------------------------------------------\u001b[0m",
      "\u001b[1;31mValueError\u001b[0m                                Traceback (most recent call last)",
      "\u001b[1;32m<ipython-input-149-b44b6af4396c>\u001b[0m in \u001b[0;36m<module>\u001b[1;34m\u001b[0m\n\u001b[0;32m      5\u001b[0m     \u001b[0mpca\u001b[0m \u001b[1;33m=\u001b[0m \u001b[0mpca_eigenvectors\u001b[0m\u001b[1;33m[\u001b[0m\u001b[1;33m:\u001b[0m\u001b[1;33m,\u001b[0m\u001b[0mi\u001b[0m\u001b[1;33m]\u001b[0m\u001b[1;33m\u001b[0m\u001b[1;33m\u001b[0m\u001b[0m\n\u001b[0;32m      6\u001b[0m     \u001b[0mpca\u001b[0m \u001b[1;33m=\u001b[0m \u001b[0mpca\u001b[0m\u001b[1;33m.\u001b[0m\u001b[0mT\u001b[0m\u001b[1;33m\u001b[0m\u001b[1;33m\u001b[0m\u001b[0m\n\u001b[1;32m----> 7\u001b[1;33m     \u001b[0mdiff\u001b[0m \u001b[1;33m=\u001b[0m \u001b[0mnp\u001b[0m\u001b[1;33m.\u001b[0m\u001b[0mdot\u001b[0m\u001b[1;33m(\u001b[0m\u001b[0mpca\u001b[0m\u001b[1;33m,\u001b[0m\u001b[0mfed\u001b[0m\u001b[1;33m)\u001b[0m\u001b[1;33m\u001b[0m\u001b[1;33m\u001b[0m\u001b[0m\n\u001b[0m\u001b[0;32m      8\u001b[0m     \u001b[0mdifference\u001b[0m\u001b[1;33m.\u001b[0m\u001b[0mappend\u001b[0m\u001b[1;33m(\u001b[0m\u001b[0mdiff\u001b[0m\u001b[1;33m)\u001b[0m\u001b[1;33m\u001b[0m\u001b[1;33m\u001b[0m\u001b[0m\n\u001b[0;32m      9\u001b[0m     \u001b[0msin\u001b[0m \u001b[1;33m=\u001b[0m \u001b[1;36m1\u001b[0m\u001b[1;33m-\u001b[0m\u001b[0mdiff\u001b[0m\u001b[1;33m**\u001b[0m\u001b[1;36m2\u001b[0m\u001b[1;33m\u001b[0m\u001b[1;33m\u001b[0m\u001b[0m\n",
      "\u001b[1;32m<__array_function__ internals>\u001b[0m in \u001b[0;36mdot\u001b[1;34m(*args, **kwargs)\u001b[0m\n",
      "\u001b[1;31mValueError\u001b[0m: shapes (784,) and (20,) not aligned: 784 (dim 0) != 20 (dim 0)"
     ]
    }
   ],
   "source": [
    "difference = []\n",
    "angle = []\n",
    "for i in range(20):\n",
    "    fed = fed_eigenvectors[:,i]\n",
    "    pca = pca_eigenvectors[:,i]\n",
    "    pca = pca.T\n",
    "    diff = np.dot(pca,fed)\n",
    "    difference.append(diff)\n",
    "    sin = 1-diff**2\n",
    "    angle_diff = np.arccos(diff)*180/np.pi\n",
    "    print(\"%.5f   %.2f\\n\"%(sin,angle_diff))\n",
    "    angle.append(angle_diff)\n",
    "#print(difference)"
   ]
  }
 ],
 "metadata": {
  "kernelspec": {
   "display_name": "Python 3",
   "language": "python",
   "name": "python3"
  },
  "language_info": {
   "codemirror_mode": {
    "name": "ipython",
    "version": 3
   },
   "file_extension": ".py",
   "mimetype": "text/x-python",
   "name": "python",
   "nbconvert_exporter": "python",
   "pygments_lexer": "ipython3",
   "version": "3.8.8"
  }
 },
 "nbformat": 4,
 "nbformat_minor": 5
}
