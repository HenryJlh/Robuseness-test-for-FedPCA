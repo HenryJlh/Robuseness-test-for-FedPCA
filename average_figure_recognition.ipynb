{
 "cells": [
  {
   "cell_type": "code",
   "execution_count": 270,
   "id": "f074135a",
   "metadata": {},
   "outputs": [],
   "source": [
    "#数据集读取，数据储存于data，标签储存于labels\n",
    "N = 5000\n",
    "import numpy as np\n",
    "import gzip\n",
    "import matplotlib.pyplot as plt\n",
    "%matplotlib inline\n",
    "from imageio import imread,imsave\n",
    "\n",
    "# 训练集文件\n",
    "train_images_idx3_ubyte_file = \"E:\\\\大一下 2022 春夏学期\\\\SRTP\\\\minst数据集\\\\t10k-images-idx3-ubyte.gz\"\n",
    "# 训练集标签文件\n",
    "train_labels_idx1_ubyte_file = \"E:\\\\大一下 2022 春夏学期\\\\SRTP\\\\minst数据集\\\\t10k-labels-idx1-ubyte.gz\"\n",
    "# 测试集文件\n",
    "test_images_idx3_ubyte_file = \"E:\\\\大一下 2022 春夏学期\\\\SRTP\\\\minst数据集\\\\test-images-idx3_ubyte.gz\"\n",
    "# 测试集标签文件\n",
    "test_labels_idx1_ubyte_file = \"E:\\\\大一下 2022 春夏学期\\\\SRTP\\\\minst数据集\\\\train-labels-idx1-ubyte.gz\"\n",
    "\n",
    "#提取数据矩阵\n",
    "f = gzip.open(train_images_idx3_ubyte_file,'r')\n",
    "image_size = 28 #不能改，不要改！\n",
    "num_images = N #调整读取数量，可以改\n",
    "f.read(16) #不能改，不要改！\n",
    "buf = f.read(image_size * image_size * num_images)\n",
    "data = np.frombuffer(buf, dtype=np.uint8).astype(np.float32)\n",
    "data = data.reshape(num_images, image_size, image_size)\n",
    "\n",
    "#提取数据标签\n",
    "f = gzip.open(train_labels_idx1_ubyte_file,'r')\n",
    "f.read(8) #不能改，不要改！\n",
    "labels = []\n",
    "for i in range(0,N):   \n",
    "    buf = f.read(1)\n",
    "    labels.append(np.frombuffer(buf, dtype=np.uint8).astype(np.int64))"
   ]
  },
  {
   "cell_type": "code",
   "execution_count": 271,
   "id": "4a092401",
   "metadata": {},
   "outputs": [
    {
     "name": "stdout",
     "output_type": "stream",
     "text": [
      "(5000, 28, 28)\n"
     ]
    }
   ],
   "source": [
    "print(data.shape)\n",
    "#print(data[0,:,:])\n",
    "x0=[]\n",
    "x1=[]\n",
    "x2=[]\n",
    "x3=[]\n",
    "x4=[]\n",
    "x5=[]\n",
    "x6=[]\n",
    "x7=[]\n",
    "x8=[]\n",
    "x9=[]"
   ]
  },
  {
   "cell_type": "code",
   "execution_count": 272,
   "id": "74bdc72d",
   "metadata": {},
   "outputs": [],
   "source": [
    "for i in range(num_images):\n",
    "    if labels[i] == 0:\n",
    "        x0.append(data[i,:,:])\n",
    "    elif labels[i] == 1:\n",
    "        x1.append(data[i,:,:])\n",
    "    elif labels[i] == 2:\n",
    "        x2.append(data[i,:,:])\n",
    "    elif labels[i] == 3:\n",
    "        x3.append(data[i,:,:])\n",
    "    elif labels[i] == 4:\n",
    "        x4.append(data[i,:,:])\n",
    "    elif labels[i] == 5:\n",
    "        x5.append(data[i,:,:])\n",
    "    elif labels[i] == 6:\n",
    "        x6.append(data[i,:,:])\n",
    "    elif labels[i] == 7:\n",
    "        x7.append(data[i,:,:])\n",
    "    elif labels[i] == 8:\n",
    "        x8.append(data[i,:,:])\n",
    "    elif labels[i] == 9:\n",
    "        x9.append(data[i,:,:])"
   ]
  },
  {
   "cell_type": "code",
   "execution_count": 273,
   "id": "6ae74200",
   "metadata": {},
   "outputs": [],
   "source": [
    "def as_row_matrix (X):\n",
    "    if len (X) == 0:\n",
    "        return np. array ([])\n",
    "    mat = np. empty ((0 , X [0].size ), dtype =X [0]. dtype )\n",
    "    for row in X:\n",
    "        mat = np.vstack(( mat , np.asarray( row ).reshape(1 , -1))) # 1 x r*c \n",
    "    return mat"
   ]
  },
  {
   "cell_type": "code",
   "execution_count": 274,
   "id": "2ddf424d",
   "metadata": {},
   "outputs": [],
   "source": [
    "def subplot ( title , images , rows , cols , sptitle =\"\", sptitles =[] , colormap = plt.cm.gray, filename = None, figsize = (10, 10) ):\n",
    "    fig = plt.figure(figsize = figsize)\n",
    "    # main title\n",
    "    fig.text (.5 , .95 , title , horizontalalignment =\"center\")\n",
    "    for i in range ( len ( images )):\n",
    "        ax0 = fig.add_subplot( rows , cols ,( i +1))\n",
    "        plt.setp ( ax0.get_xticklabels() , visible = False )\n",
    "        plt.setp ( ax0.get_yticklabels() , visible = False )\n",
    "        if len ( sptitles ) == len ( images ):\n",
    "            plt.title(\"%s #%s\" % ( sptitle , str ( sptitles [i ]) )  )\n",
    "        else:\n",
    "            plt.title(\"%s #%d\" % ( sptitle , (i +1) )  )\n",
    "        plt.imshow(np.asarray(images[i]) , cmap = colormap )\n",
    "    if filename is None :\n",
    "        plt.show()\n",
    "    else:\n",
    "        fig.savefig( filename )"
   ]
  },
  {
   "cell_type": "code",
   "execution_count": 275,
   "id": "54459ef0",
   "metadata": {
    "scrolled": false
   },
   "outputs": [
    {
     "data": {
      "image/png": "[encoded data removed]",
      "text/plain": [
       "<Figure size 432x288 with 1 Axes>"
      ]
     },
     "metadata": {
      "needs_background": "light"
     },
     "output_type": "display_data"
    },
    {
     "data": {
      "image/png": "[encoded data removed]",
      "text/plain": [
       "<Figure size 720x720 with 10 Axes>"
      ]
     },
     "metadata": {},
     "output_type": "display_data"
    }
   ],
   "source": [
    "x0_array = np.array(x0) \n",
    "average0 = np.reshape(as_row_matrix(x0_array).mean( axis =0), x0[0].shape)\n",
    "plt.imshow(average0, cmap=plt.cm.gray)\n",
    "plt.title(\"Mean Face\")\n",
    "plt.show()\n",
    "x1_array = np.array(x1) \n",
    "average1 = np.reshape(as_row_matrix(x1_array).mean( axis =0), x1[0].shape)\n",
    "x2_array = np.array(x2) \n",
    "average2 = np.reshape(as_row_matrix(x2_array).mean( axis =0), x2[0].shape)\n",
    "x3_array = np.array(x3) \n",
    "average3 = np.reshape(as_row_matrix(x3_array).mean( axis =0), x3[0].shape)\n",
    "x4_array = np.array(x4) \n",
    "average4 = np.reshape(as_row_matrix(x4_array).mean( axis =0), x4[0].shape)\n",
    "x5_array = np.array(x5) \n",
    "average5 = np.reshape(as_row_matrix(x5_array).mean( axis =0), x5[0].shape)\n",
    "x6_array = np.array(x6) \n",
    "average6 = np.reshape(as_row_matrix(x6_array).mean( axis =0), x6[0].shape)\n",
    "x7_array = np.array(x7) \n",
    "average7 = np.reshape(as_row_matrix(x7_array).mean( axis =0), x7[0].shape)\n",
    "x8_array = np.array(x8) \n",
    "average8 = np.reshape(as_row_matrix(x8_array).mean( axis =0), x8[0].shape)\n",
    "x9_array = np.array(x9) \n",
    "average9 = np.reshape(as_row_matrix(x9_array).mean( axis =0), x9[0].shape)\n",
    "average = []\n",
    "average.append(average0)\n",
    "average.append(average1)\n",
    "average.append(average2)\n",
    "average.append(average3)\n",
    "average.append(average4)\n",
    "average.append(average5)\n",
    "average.append(average6)\n",
    "average.append(average7)\n",
    "average.append(average8)\n",
    "average.append(average9)\n",
    "average = np.array(average)\n",
    "#average.shape\n",
    "subplot ( title =\"Mean value\", images = average, rows =2, cols =5,  colormap =plt.cm.gray )"
   ]
  },
  {
   "cell_type": "code",
   "execution_count": 288,
   "id": "b7065eec",
   "metadata": {},
   "outputs": [],
   "source": [
    "def get_number_of_components_to_preserve_variance(eigenvalues, variance=.95):\n",
    "    for ii, eigen_value_cumsum in enumerate(np.cumsum(eigenvalues) / np.sum(eigenvalues)):\n",
    "        if eigen_value_cumsum > variance:\n",
    "            return ii"
   ]
  },
  {
   "cell_type": "code",
   "execution_count": 296,
   "id": "fbc9eeb7",
   "metadata": {},
   "outputs": [
    {
     "data": {
      "image/png": "[encoded data removed]",
      "text/plain": [
       "<Figure size 720x720 with 5 Axes>"
      ]
     },
     "metadata": {},
     "output_type": "display_data"
    }
   ],
   "source": [
    "def pca (X, num_components =0): \n",
    "    [n,d] = X.shape\n",
    "    if ( num_components <= 0) or ( num_components >n):\n",
    "        num_components = n\n",
    "        mu = X.mean( axis =0)\n",
    "        X = X - mu\n",
    "    if n>d:\n",
    "        C = np.dot(X.T,X)\n",
    "        [ eigenvalues , eigenvectors ] = np.linalg.eigh(C)\n",
    "    else :\n",
    "        C = np.dot (X,X.T) \n",
    "        [ eigenvalues , eigenvectors ] = np.linalg.eigh(C)\n",
    "        eigenvectors = np.dot(X.T, eigenvectors )\n",
    "        for i in range (n):\n",
    "            eigenvectors [:,i] = eigenvectors [:,i]/ np.linalg.norm( eigenvectors [:,i])\n",
    "    idx = np.argsort (- eigenvalues )\n",
    "    eigenvalues = eigenvalues [idx ]\n",
    "    eigenvectors = eigenvectors [:, idx ]\n",
    "    num_components = get_number_of_components_to_preserve_variance(eigenvalues)\n",
    "    eigenvalues = eigenvalues [0: num_components ].copy ()\n",
    "    eigenvectors = eigenvectors [: ,0: num_components ].copy ()\n",
    "    return [ eigenvalues , eigenvectors , mu]\n",
    "[X,y] = [average,labels]\n",
    "[eigenvalues, eigenvectors, mean] = pca (as_row_matrix(X))\n",
    "E = []\n",
    "number = eigenvectors.shape[1]\n",
    "for i in range (min(number, 16)):\n",
    "    e = eigenvectors[:,i].reshape(X[0].shape )\n",
    "    E.append(np.asarray(e))\n",
    "\n",
    "# plot them and store the plot to \" python_eigenfaces .pdf\"\n",
    "subplot ( title =\"Eigenfaces\", images=\n",
    "        E, rows =1, cols =5, colormap =plt.cm.gray )"
   ]
  },
  {
   "cell_type": "code",
   "execution_count": 290,
   "id": "cd8b63d5",
   "metadata": {},
   "outputs": [],
   "source": [
    "def predict (W, mu , projections, X):\n",
    "    minDist = float(\"inf\")\n",
    "    minClass = -1\n",
    "    Q = project (W, X.reshape (1 , -1) , mu)\n",
    "    for i in range (len(projections)):\n",
    "        dist = dist_metric( projections[i], Q)\n",
    "        if dist < minDist:\n",
    "            minDist = dist\n",
    "            minClass = i\n",
    "    return minClass\n"
   ]
  },
  {
   "cell_type": "code",
   "execution_count": 291,
   "id": "e1a3d38b",
   "metadata": {},
   "outputs": [
    {
     "data": {
      "text/plain": [
       "10"
      ]
     },
     "execution_count": 291,
     "metadata": {},
     "output_type": "execute_result"
    }
   ],
   "source": [
    "def project (W , X , mu):\n",
    "    return np.dot (X - mu , W)\n",
    "def reconstruct (W , Y , mu) :\n",
    "    return np.dot (Y , W.T) + mu\n",
    "projections = []\n",
    "for xi in X:\n",
    "    projections.append(project (eigenvectors, xi.reshape(1 , -1) , mean))\n",
    "len(projections)"
   ]
  },
  {
   "cell_type": "code",
   "execution_count": 292,
   "id": "994b3aa7",
   "metadata": {},
   "outputs": [],
   "source": [
    "def dist_metric(p,q):\n",
    "    p = np.asarray(p).flatten()\n",
    "    q = np.asarray(q).flatten()\n",
    "    return np.sqrt (np.sum (np. power ((p-q) ,2)))"
   ]
  },
  {
   "cell_type": "code",
   "execution_count": 293,
   "id": "13f121ed",
   "metadata": {},
   "outputs": [
    {
     "name": "stdout",
     "output_type": "stream",
     "text": [
      "0.735747149429886\n"
     ]
    }
   ],
   "source": [
    "success = 0\n",
    "sums = 0\n",
    "for i in range(1,N):\n",
    "    image = data[i,:,:]\n",
    "    test_image = np. asarray (image , dtype =np. uint8 )\n",
    "    predicted = predict(eigenvectors, mean , projections, test_image)\n",
    "    if predicted == labels[i]:\n",
    "        success += 1\n",
    "#    else:\n",
    "#        subplot ( title =\"Prediction\", images =[test_image, X[predicted]], rows =1, cols =2, colormap =plt.cm.gray)\n",
    "    sums += 1\n",
    "confident = success/sums\n",
    "print(confident)"
   ]
  },
  {
   "cell_type": "code",
   "execution_count": null,
   "id": "4fec5bbd",
   "metadata": {},
   "outputs": [],
   "source": []
  },
  {
   "cell_type": "code",
   "execution_count": null,
   "id": "6bc02201",
   "metadata": {},
   "outputs": [],
   "source": []
  }
 ],
 "metadata": {
  "kernelspec": {
   "display_name": "Python 3",
   "language": "python",
   "name": "python3"
  },
  "language_info": {
   "codemirror_mode": {
    "name": "ipython",
    "version": 3
   },
   "file_extension": ".py",
   "mimetype": "text/x-python",
   "name": "python",
   "nbconvert_exporter": "python",
   "pygments_lexer": "ipython3",
   "version": "3.8.8"
  }
 },
 "nbformat": 4,
 "nbformat_minor": 5
}
